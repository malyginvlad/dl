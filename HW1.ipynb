{
 "cells": [
  {
   "cell_type": "code",
   "execution_count": 1,
   "metadata": {},
   "outputs": [],
   "source": [
    "import random\n",
    "\n",
    "import gym\n",
    "import numpy as np\n",
    "import scipy.stats as st\n",
    "import matplotlib.pyplot as plt\n",
    "\n",
    "from gym import spaces\n",
    "from gym.utils import seeding\n",
    "from gym.envs.toy_text.blackjack import BlackjackEnv\n",
    "from tqdm import tqdm\n",
    "from matplotlib import pyplot\n",
    "%matplotlib inline\n",
    "plt.style.use('ggplot')"
   ]
  },
  {
   "cell_type": "markdown",
   "metadata": {},
   "source": [
    "## Часть первая, с блекджеком и стратегиями\n",
    "\n",
    "1) Рассмотрим очень простую стратегию: говорить stand, если у нас на руках комбинация в 19, 20 или 21 очко, во всех остальных случаях говорить hit. Используйте методы Монте-Карло, чтобы оценить выигрыш от этой стратегии.\n"
   ]
  },
  {
   "cell_type": "code",
   "execution_count": 2,
   "metadata": {},
   "outputs": [],
   "source": [
    "env = gym.make('Blackjack-v1', natural=True)"
   ]
  },
  {
   "cell_type": "code",
   "execution_count": 3,
   "metadata": {},
   "outputs": [],
   "source": [
    "def check_state(state):\n",
    "    return state[0] < 19\n",
    "\n",
    "def get_experiment(check_state, n=100000):\n",
    "    rewards = []\n",
    "    for _ in range(n):\n",
    "        observation = env.reset()\n",
    "        done = False\n",
    "        reward = 0\n",
    "        result = 0\n",
    "        while not done:\n",
    "            step = check_state(observation)\n",
    "            observation, reward, done, _ = env.step(step)\n",
    "        rewards.append(reward)\n",
    "    return rewards"
   ]
  },
  {
   "cell_type": "code",
   "execution_count": 4,
   "metadata": {},
   "outputs": [
    {
     "name": "stdout",
     "output_type": "stream",
     "text": [
      "Средний проигрыш при такой стратегии за 100000 экспериментов: -0.19907\n"
     ]
    }
   ],
   "source": [
    "n = 100000\n",
    "rewards = get_experiment(check_state, n)\n",
    "print(f'Средний проигрыш при такой стратегии за {n} экспериментов: {np.mean(rewards)}')"
   ]
  },
  {
   "cell_type": "code",
   "execution_count": 5,
   "metadata": {},
   "outputs": [
    {
     "name": "stderr",
     "output_type": "stream",
     "text": [
      "100%|████████████████████████████████████████████████████████████████████████| 100000/100000 [00:27<00:00, 3595.58it/s]\n"
     ]
    },
    {
     "data": {
      "image/png": "[encoded data removed]",
      "text/plain": [
       "<Figure size 1152x576 with 1 Axes>"
      ]
     },
     "metadata": {},
     "output_type": "display_data"
    }
   ],
   "source": [
    "results = []\n",
    "for i in tqdm(range(len(rewards))):\n",
    "    results.append(sum(rewards[:i])/(i+1))\n",
    "plt.figure(figsize=(16, 8))\n",
    "plt.plot(results)\n",
    "plt.xlabel('Количество эпизодов')\n",
    "plt.ylabel('Выигрыш')\n",
    "plt.grid(True)\n",
    "plt.show()"
   ]
  },
  {
   "cell_type": "markdown",
   "metadata": {},
   "source": [
    "По графику видно, что если просто придти поиграть в блекджек, то мы проиграем всё."
   ]
  },
  {
   "cell_type": "markdown",
   "metadata": {},
   "source": [
    "2) Реализуйте метод обучения с подкреплением без модели (можно Q-обучение, но рекомендую попробовать и другие, например Monte Carlo control) для обучения стратегии в блекджеке, используя окружение Blackjack-v0 из OpenAI Gym."
   ]
  },
  {
   "cell_type": "code",
   "execution_count": 6,
   "metadata": {},
   "outputs": [],
   "source": [
    "class BlackjackEnvDouble(BlackjackEnv):\n",
    "    def __init__(self, natural=False):\n",
    "        self.action_space = spaces.Discrete(3)  # Now we have 3 actions instead of 2 (stick=0, hit=1, double=2)\n",
    "        self.observation_space = spaces.Tuple((\n",
    "            spaces.Discrete(32),\n",
    "            spaces.Discrete(11),\n",
    "            spaces.Discrete(2)))\n",
    "        self.seed()\n",
    "\n",
    "        # Flag to payout 1.5 on a \"natural\" blackjack win, like casino rules\n",
    "        # Ref: http://www.bicyclecards.com/how-to-play/blackjack/\n",
    "        self.natural = natural\n",
    "        # Start the first game\n",
    "        self.reset()\n",
    "\n",
    "    def step(self, action):\n",
    "        assert self.action_space.contains(action)\n",
    "        if action == 2: # double: add only one card, reward/loss is double.\n",
    "            done = True\n",
    "            self.player.append(draw_card(self.np_random))\n",
    "            if is_bust(self.player):\n",
    "                reward = -2.\n",
    "            else:\n",
    "                while sum_hand(self.dealer) < 17:\n",
    "                    self.dealer.append(draw_card(self.np_random))\n",
    "                reward = 2.0 * cmp(score(self.player), score(self.dealer))\n",
    "            if self.natural and is_natural(self.player) and reward == 2.:\n",
    "                reward = 3.\n",
    "            \n",
    "        elif action == 1:  # hit: add a card to players hand and return\n",
    "            self.player.append(draw_card(self.np_random))\n",
    "            if is_bust(self.player):\n",
    "                done = True\n",
    "                reward = -1.\n",
    "            else:\n",
    "                done = False\n",
    "                reward = 0.\n",
    "        else:  # stick: play out the dealers hand, and score\n",
    "            done = True\n",
    "            while sum_hand(self.dealer) < 17:\n",
    "                self.dealer.append(draw_card(self.np_random))\n",
    "            reward = cmp(score(self.player), score(self.dealer))\n",
    "            if self.natural and is_natural(self.player) and reward == 1.:\n",
    "                reward = 1.5\n",
    "        return self._get_obs(), reward, done, {}\n",
    "\n",
    "def cmp(a, b):\n",
    "    return float(a > b) - float(a < b)\n",
    "\n",
    "# 1 = Ace, 2-10 = Number cards, Jack/Queen/King = 10\n",
    "deck = [1, 2, 3, 4, 5, 6, 7, 8, 9, 10, 10, 10, 10]\n",
    "\n",
    "\n",
    "def draw_card(np_random):\n",
    "    return int(np_random.choice(deck))\n",
    "\n",
    "\n",
    "def draw_hand(np_random):\n",
    "    return [draw_card(np_random), draw_card(np_random)]\n",
    "\n",
    "\n",
    "def usable_ace(hand):  # Does this hand have a usable ace?\n",
    "    return 1 in hand and sum(hand) + 10 <= 21\n",
    "\n",
    "\n",
    "def sum_hand(hand):  # Return current hand total\n",
    "    if usable_ace(hand):\n",
    "        return sum(hand) + 10\n",
    "    return sum(hand)\n",
    "\n",
    "\n",
    "def is_bust(hand):  # Is this hand a bust?\n",
    "    return sum_hand(hand) > 21\n",
    "\n",
    "\n",
    "def score(hand):  # What is the score of this hand (0 if bust)\n",
    "    return 0 if is_bust(hand) else sum_hand(hand)\n",
    "\n",
    "\n",
    "def is_natural(hand):  # Is this hand a natural blackjack?\n",
    "    return sorted(hand) == [1, 10]"
   ]
  },
  {
   "cell_type": "code",
   "execution_count": 7,
   "metadata": {},
   "outputs": [],
   "source": [
    "class QBlackJack:\n",
    "    def __init__(self, can_double = False, natural=True):\n",
    "        self._ph = 32 \n",
    "        self._dh = 11 \n",
    "        self._ua = 2\n",
    "        self._nA = 3 if can_double else 2 \n",
    "        self._nS = self._ph * self._dh * self._ua \n",
    "        if can_double:\n",
    "            self._env = BlackjackEnvDouble(natural=natural)\n",
    "        else:\n",
    "            self._env = gym.make('Blackjack-v1', natural=natural)\n",
    "    \n",
    "    def _set_zero_Q(self):\n",
    "        self._Q = np.zeros(shape=(self._nS, self._nA))\n",
    "        \n",
    "    def get_current_policy(self):\n",
    "        return self._Q.argmax(1)\n",
    "    \n",
    "    def _observation_to_idx(self, s):\n",
    "        return (s[0] - 1) * self._dh * self._ua + (s[1] - 1) * self._ua + s[2]\n",
    "    \n",
    "    def idx_to_observation(self, idx):\n",
    "        s_2 = bool(idx % self._ua)\n",
    "        idx = (idx - s_2) / self._ua\n",
    "        s_1 = int(idx % self._dh + 1)\n",
    "        s_0 = int((idx - (s_1 - 1)) / self._dh + 1)\n",
    "        return (s_0, s_1, s_2)\n",
    "    \n",
    "    def _Q_learning_episode(self, alpha, epsilon, gamma):\n",
    "        obs = self._env.reset()\n",
    "        s = self._observation_to_idx(obs)\n",
    "        pi = self.get_current_policy()\n",
    "        if np.random.rand() > epsilon:\n",
    "            a = pi[s]\n",
    "        else:\n",
    "            a = np.random.randint(self._nA)\n",
    "        done = False\n",
    "        while not done:\n",
    "            pi = self.get_current_policy()\n",
    "            observation, reward, done, _ = self._env.step(a)\n",
    "            s_prime = self._observation_to_idx(observation)\n",
    "            if np.random.rand() > epsilon:\n",
    "                a_prime = pi[s_prime]\n",
    "            else:\n",
    "                a_prime = np.random.randint(self._nA)\n",
    "            self._Q[s, a] = self._Q[s, a] + alpha * (reward + gamma * np.max(self._Q[s_prime]) - self._Q[s, a])\n",
    "            s = s_prime\n",
    "            if done:\n",
    "                break\n",
    "                \n",
    "    def learn(self, alpha=3e-4, epsilon=0.4, gamma=1.0, n_episodes=100000):\n",
    "        self._set_zero_Q()\n",
    "        pi = self.get_current_policy()\n",
    "        mean_rewards = []\n",
    "        l_bounds = []\n",
    "        u_bounds = []\n",
    "        for i in range(n_episodes):\n",
    "            self._Q_learning_episode(alpha=alpha, epsilon=epsilon, gamma=gamma)\n",
    "            pi = self.get_current_policy()\n",
    "        self.pi = pi\n",
    "        \n",
    "    def get_experiment(self, pi=None, n_experiments=200000):\n",
    "        if not pi:\n",
    "            pi = self.pi\n",
    "        rewards = []\n",
    "        for _ in range(n_experiments):\n",
    "            observation = self._env.reset()\n",
    "            s = self._observation_to_idx(observation)\n",
    "            done = False\n",
    "            reward = 0\n",
    "            while not done:\n",
    "                a = pi[s]\n",
    "                observation, reward, done, _ = self._env.step(a)\n",
    "                s = self._observation_to_idx(observation)\n",
    "            rewards.append(reward)\n",
    "        return rewards"
   ]
  },
  {
   "cell_type": "code",
   "execution_count": 8,
   "metadata": {},
   "outputs": [
    {
     "name": "stdout",
     "output_type": "stream",
     "text": [
      "Средний проигрыш при такой стратегии за 100000 экспериментов: -0.07894\n"
     ]
    }
   ],
   "source": [
    "learner = QBlackJack()\n",
    "learner.learn(n_episodes=100000)\n",
    "rewards = learner.get_experiment(n_experiments=100000)\n",
    "\n",
    "print(f'Средний проигрыш при такой стратегии за {n} экспериментов: {np.mean(rewards)}')"
   ]
  },
  {
   "cell_type": "markdown",
   "metadata": {},
   "source": [
    "3) Сколько выигрывает казино у вашей стратегии? Нарисуйте графики среднего дохода вашего метода (усреднённого по крайней мере по 100000 раздач, а лучше больше) по ходу обучения. Попробуйте подобрать оптимальные гиперпараметры."
   ]
  },
  {
   "cell_type": "code",
   "execution_count": 9,
   "metadata": {},
   "outputs": [
    {
     "name": "stderr",
     "output_type": "stream",
     "text": [
      "100%|████████████████████████████████████████████████████████████████████████| 100000/100000 [00:31<00:00, 3126.96it/s]\n"
     ]
    },
    {
     "data": {
      "image/png": "[encoded data removed]",
      "text/plain": [
       "<Figure size 1152x576 with 1 Axes>"
      ]
     },
     "metadata": {},
     "output_type": "display_data"
    }
   ],
   "source": [
    "results = []\n",
    "for i in tqdm(range(len(rewards))):\n",
    "    results.append(sum(rewards[:i])/(i+1))\n",
    "plt.figure(figsize=(16, 8))\n",
    "plt.plot(results)\n",
    "plt.xlabel('Количество эпизодов')\n",
    "plt.ylabel('Выигрыш')\n",
    "plt.grid(True)\n",
    "plt.show()"
   ]
  },
  {
   "cell_type": "code",
   "execution_count": 10,
   "metadata": {},
   "outputs": [
    {
     "name": "stderr",
     "output_type": "stream",
     "text": [
      "\r",
      "  0%|                                                                                            | 0/9 [00:00<?, ?it/s]"
     ]
    },
    {
     "name": "stdout",
     "output_type": "stream",
     "text": [
      "Epsilon: 0.1, Alpha: 1e-05, Result: -0.0964\n",
      "Epsilon: 0.1, Alpha: 3e-05, Result: -0.0761\n",
      "Epsilon: 0.1, Alpha: 0.0001, Result: -0.0862\n",
      "Epsilon: 0.1, Alpha: 0.0003, Result: -0.076\n"
     ]
    },
    {
     "name": "stderr",
     "output_type": "stream",
     "text": [
      "\r",
      " 11%|█████████▎                                                                          | 1/9 [00:06<00:48,  6.11s/it]"
     ]
    },
    {
     "name": "stdout",
     "output_type": "stream",
     "text": [
      "Epsilon: 0.1, Alpha: 0.001, Result: -0.1076\n",
      "Epsilon: 0.2, Alpha: 1e-05, Result: -0.0811\n",
      "Epsilon: 0.2, Alpha: 3e-05, Result: -0.11\n",
      "Epsilon: 0.2, Alpha: 0.0001, Result: -0.0906\n",
      "Epsilon: 0.2, Alpha: 0.0003, Result: -0.0966\n"
     ]
    },
    {
     "name": "stderr",
     "output_type": "stream",
     "text": [
      "\r",
      " 22%|██████████████████▋                                                                 | 2/9 [00:12<00:42,  6.10s/it]"
     ]
    },
    {
     "name": "stdout",
     "output_type": "stream",
     "text": [
      "Epsilon: 0.2, Alpha: 0.001, Result: -0.0836\n",
      "Epsilon: 0.3, Alpha: 1e-05, Result: -0.0684\n",
      "Epsilon: 0.3, Alpha: 3e-05, Result: -0.069\n",
      "Epsilon: 0.3, Alpha: 0.0001, Result: -0.0633\n",
      "Epsilon: 0.3, Alpha: 0.0003, Result: -0.0929\n"
     ]
    },
    {
     "name": "stderr",
     "output_type": "stream",
     "text": [
      "\r",
      " 33%|████████████████████████████                                                        | 3/9 [00:18<00:36,  6.06s/it]"
     ]
    },
    {
     "name": "stdout",
     "output_type": "stream",
     "text": [
      "Epsilon: 0.3, Alpha: 0.001, Result: -0.0622\n",
      "Epsilon: 0.4, Alpha: 1e-05, Result: -0.0802\n",
      "Epsilon: 0.4, Alpha: 3e-05, Result: -0.0913\n",
      "Epsilon: 0.4, Alpha: 0.0001, Result: -0.0719\n",
      "Epsilon: 0.4, Alpha: 0.0003, Result: -0.091\n"
     ]
    },
    {
     "name": "stderr",
     "output_type": "stream",
     "text": [
      "\r",
      " 44%|█████████████████████████████████████▎                                              | 4/9 [00:24<00:30,  6.05s/it]"
     ]
    },
    {
     "name": "stdout",
     "output_type": "stream",
     "text": [
      "Epsilon: 0.4, Alpha: 0.001, Result: -0.0837\n",
      "Epsilon: 0.5, Alpha: 1e-05, Result: -0.0936\n",
      "Epsilon: 0.5, Alpha: 3e-05, Result: -0.077\n",
      "Epsilon: 0.5, Alpha: 0.0001, Result: -0.0594\n",
      "Epsilon: 0.5, Alpha: 0.0003, Result: -0.0897\n"
     ]
    },
    {
     "name": "stderr",
     "output_type": "stream",
     "text": [
      "\r",
      " 56%|██████████████████████████████████████████████▋                                     | 5/9 [00:30<00:24,  6.07s/it]"
     ]
    },
    {
     "name": "stdout",
     "output_type": "stream",
     "text": [
      "Epsilon: 0.5, Alpha: 0.001, Result: -0.0845\n",
      "Epsilon: 0.6, Alpha: 1e-05, Result: -0.0732\n",
      "Epsilon: 0.6, Alpha: 3e-05, Result: -0.0897\n",
      "Epsilon: 0.6, Alpha: 0.0001, Result: -0.1018\n",
      "Epsilon: 0.6, Alpha: 0.0003, Result: -0.094\n"
     ]
    },
    {
     "name": "stderr",
     "output_type": "stream",
     "text": [
      "\r",
      " 67%|████████████████████████████████████████████████████████                            | 6/9 [00:36<00:18,  6.08s/it]"
     ]
    },
    {
     "name": "stdout",
     "output_type": "stream",
     "text": [
      "Epsilon: 0.6, Alpha: 0.001, Result: -0.0941\n",
      "Epsilon: 0.7, Alpha: 1e-05, Result: -0.082\n",
      "Epsilon: 0.7, Alpha: 3e-05, Result: -0.0948\n",
      "Epsilon: 0.7, Alpha: 0.0001, Result: -0.0672\n",
      "Epsilon: 0.7, Alpha: 0.0003, Result: -0.0773\n"
     ]
    },
    {
     "name": "stderr",
     "output_type": "stream",
     "text": [
      "\r",
      " 78%|█████████████████████████████████████████████████████████████████▎                  | 7/9 [00:42<00:12,  6.10s/it]"
     ]
    },
    {
     "name": "stdout",
     "output_type": "stream",
     "text": [
      "Epsilon: 0.7, Alpha: 0.001, Result: -0.083\n",
      "Epsilon: 0.8, Alpha: 1e-05, Result: -0.0711\n",
      "Epsilon: 0.8, Alpha: 3e-05, Result: -0.0749\n",
      "Epsilon: 0.8, Alpha: 0.0001, Result: -0.0718\n",
      "Epsilon: 0.8, Alpha: 0.0003, Result: -0.0759\n"
     ]
    },
    {
     "name": "stderr",
     "output_type": "stream",
     "text": [
      "\r",
      " 89%|██████████████████████████████████████████████████████████████████████████▋         | 8/9 [00:48<00:06,  6.10s/it]"
     ]
    },
    {
     "name": "stdout",
     "output_type": "stream",
     "text": [
      "Epsilon: 0.8, Alpha: 0.001, Result: -0.0887\n",
      "Epsilon: 0.9, Alpha: 1e-05, Result: -0.0886\n",
      "Epsilon: 0.9, Alpha: 3e-05, Result: -0.0822\n",
      "Epsilon: 0.9, Alpha: 0.0001, Result: -0.0842\n",
      "Epsilon: 0.9, Alpha: 0.0003, Result: -0.083\n"
     ]
    },
    {
     "name": "stderr",
     "output_type": "stream",
     "text": [
      "100%|████████████████████████████████████████████████████████████████████████████████████| 9/9 [00:54<00:00,  6.09s/it]"
     ]
    },
    {
     "name": "stdout",
     "output_type": "stream",
     "text": [
      "Epsilon: 0.9, Alpha: 0.001, Result: -0.0796\n"
     ]
    },
    {
     "name": "stderr",
     "output_type": "stream",
     "text": [
      "\n"
     ]
    }
   ],
   "source": [
    "epsilons = [0.1, 0.2, 0.3, 0.4, 0.5, 0.6, 0.7, 0.8, 0.9]\n",
    "alphas = [1e-5, 3e-5, 1e-4, 3e-4, 1e-3]\n",
    "k = 10000\n",
    "\n",
    "params = []\n",
    "for epsilon in tqdm(epsilons):\n",
    "    for alpha in alphas:\n",
    "        learner = QBlackJack()\n",
    "        learner.learn(n_episodes=k, alpha=alpha, epsilon=epsilon)\n",
    "        rewards = learner.get_experiment(n_experiments=k)\n",
    "        params.append([epsilon, alpha, np.mean(rewards)])\n",
    "        print(f'Epsilon: {epsilon}, Alpha: {alpha}, Result: {np.mean(rewards)}')"
   ]
  },
  {
   "cell_type": "code",
   "execution_count": 11,
   "metadata": {},
   "outputs": [
    {
     "name": "stdout",
     "output_type": "stream",
     "text": [
      "Best params:\n",
      "Epsilon: 0.5\n",
      "Alpha: 0.0001\n",
      "Result: -0.0594\n"
     ]
    }
   ],
   "source": [
    "best_params = max(params, key=lambda x: x[2])\n",
    "print(\"\"\"Best params:\n",
    "Epsilon: {}\n",
    "Alpha: {}\n",
    "Result: {}\"\"\".format(*best_params))"
   ]
  },
  {
   "cell_type": "code",
   "execution_count": 12,
   "metadata": {},
   "outputs": [
    {
     "name": "stdout",
     "output_type": "stream",
     "text": [
      "Средний проигрыш при такой стратегии за 100000 экспериментов: -0.06506\n"
     ]
    }
   ],
   "source": [
    "learner = QBlackJack()\n",
    "learner.learn(n_episodes=n, epsilon=best_params[0], alpha=best_params[1])\n",
    "rewards = learner.get_experiment(n_experiments=n)\n",
    "\n",
    "print(f'Средний проигрыш при такой стратегии за {n} экспериментов: {np.mean(rewards)}')"
   ]
  },
  {
   "cell_type": "code",
   "execution_count": 13,
   "metadata": {},
   "outputs": [
    {
     "name": "stderr",
     "output_type": "stream",
     "text": [
      "100%|████████████████████████████████████████████████████████████████████████| 100000/100000 [00:30<00:00, 3328.93it/s]\n"
     ]
    },
    {
     "data": {
      "image/png": "[encoded data removed]",
      "text/plain": [
       "<Figure size 1152x576 with 1 Axes>"
      ]
     },
     "metadata": {},
     "output_type": "display_data"
    }
   ],
   "source": [
    "results = []\n",
    "for i in tqdm(range(len(rewards))):\n",
    "    results.append(sum(rewards[:i])/(i+1))\n",
    "plt.figure(figsize=(16, 8))\n",
    "plt.plot(results)\n",
    "plt.xlabel('Количество эпизодов')\n",
    "plt.ylabel('Выигрыш')\n",
    "plt.grid(True)\n",
    "plt.show()"
   ]
  },
  {
   "cell_type": "markdown",
   "metadata": {},
   "source": [
    "Результаты улучшились, намного меньше проигрываем при использовании Q-алгоритма, но все равно не можем победить, так как не учитываем опыт предыдущих раздач."
   ]
  },
  {
   "cell_type": "markdown",
   "metadata": {},
   "source": [
    "## Часть вторая, удвоенная\n",
    "В базовый блекджек, описанный в предыдущем разделе, обыграть казино вряд ли получится. Но, к счастью, на этом история не заканчивается. Описанные выше правила были упрощёнными, а на самом деле у игрока есть ещё и другие возможности. Реализовывать split может оказаться непросто, поэтому давайте ограничимся удвоением ставки. Итак, у игрока появляется дополнительное действие:\n",
    "\n",
    "double — удвоить ставку; при этом больше действий делать нельзя, игроку выдаётся ровно одна дополнительная карта, а выигрыш или проигрыш удваивается.\n",
    "\n",
    "4) Реализуйте новый вариант блекджека на основе окружения Blackjack-v0 из OpenAI Gym, в котором разрешено удвоение ставки.\n",
    "\n",
    "5) Реализуйте метод обучения с подкреплением без модели для этого варианта, постройте графики, аналогичные п.2."
   ]
  },
  {
   "cell_type": "code",
   "execution_count": 14,
   "metadata": {},
   "outputs": [
    {
     "name": "stdout",
     "output_type": "stream",
     "text": [
      "Средний проигрыш при такой стратегии за 100000 экспериментов: -0.12368\n"
     ]
    }
   ],
   "source": [
    "learner = QBlackJack(can_double=True)\n",
    "learner.learn(n_episodes=n)\n",
    "rewards = learner.get_experiment(n_experiments=n)\n",
    "\n",
    "print(f'Средний проигрыш при такой стратегии за {n} экспериментов: {np.mean(rewards)}')"
   ]
  },
  {
   "cell_type": "code",
   "execution_count": 15,
   "metadata": {},
   "outputs": [
    {
     "name": "stderr",
     "output_type": "stream",
     "text": [
      "100%|████████████████████████████████████████████████████████████████████████| 100000/100000 [00:30<00:00, 3331.64it/s]\n"
     ]
    },
    {
     "data": {
      "image/png": "[encoded data removed]",
      "text/plain": [
       "<Figure size 1152x576 with 1 Axes>"
      ]
     },
     "metadata": {},
     "output_type": "display_data"
    }
   ],
   "source": [
    "results = []\n",
    "for i in tqdm(range(len(rewards))):\n",
    "    results.append(sum(rewards[:i])/(i+1))\n",
    "plt.figure(figsize=(16, 8))\n",
    "plt.plot(results)\n",
    "plt.xlabel('Количество эпизодов')\n",
    "plt.ylabel('Выигрыш')\n",
    "plt.grid(True)\n",
    "plt.show()"
   ]
  },
  {
   "cell_type": "code",
   "execution_count": 16,
   "metadata": {},
   "outputs": [
    {
     "name": "stderr",
     "output_type": "stream",
     "text": [
      "\r",
      "  0%|                                                                                            | 0/9 [00:00<?, ?it/s]"
     ]
    },
    {
     "name": "stdout",
     "output_type": "stream",
     "text": [
      "Epsilon: 0.1, Alpha: 1e-05, Result: -0.0947\n",
      "Epsilon: 0.1, Alpha: 3e-05, Result: -0.13725\n",
      "Epsilon: 0.1, Alpha: 0.0001, Result: -0.17765\n",
      "Epsilon: 0.1, Alpha: 0.0003, Result: -0.16335\n"
     ]
    },
    {
     "name": "stderr",
     "output_type": "stream",
     "text": [
      "\r",
      " 11%|█████████▎                                                                          | 1/9 [00:06<00:48,  6.08s/it]"
     ]
    },
    {
     "name": "stdout",
     "output_type": "stream",
     "text": [
      "Epsilon: 0.1, Alpha: 0.001, Result: -0.1482\n",
      "Epsilon: 0.2, Alpha: 1e-05, Result: -0.1515\n",
      "Epsilon: 0.2, Alpha: 3e-05, Result: -0.1293\n",
      "Epsilon: 0.2, Alpha: 0.0001, Result: -0.1472\n",
      "Epsilon: 0.2, Alpha: 0.0003, Result: -0.1065\n"
     ]
    },
    {
     "name": "stderr",
     "output_type": "stream",
     "text": [
      "\r",
      " 22%|██████████████████▋                                                                 | 2/9 [00:12<00:42,  6.07s/it]"
     ]
    },
    {
     "name": "stdout",
     "output_type": "stream",
     "text": [
      "Epsilon: 0.2, Alpha: 0.001, Result: -0.13915\n",
      "Epsilon: 0.3, Alpha: 1e-05, Result: -0.14085\n",
      "Epsilon: 0.3, Alpha: 3e-05, Result: -0.1621\n",
      "Epsilon: 0.3, Alpha: 0.0001, Result: -0.14285\n",
      "Epsilon: 0.3, Alpha: 0.0003, Result: -0.086\n"
     ]
    },
    {
     "name": "stderr",
     "output_type": "stream",
     "text": [
      "\r",
      " 33%|████████████████████████████                                                        | 3/9 [00:18<00:36,  6.09s/it]"
     ]
    },
    {
     "name": "stdout",
     "output_type": "stream",
     "text": [
      "Epsilon: 0.3, Alpha: 0.001, Result: -0.1352\n",
      "Epsilon: 0.4, Alpha: 1e-05, Result: -0.0796\n",
      "Epsilon: 0.4, Alpha: 3e-05, Result: -0.11865\n",
      "Epsilon: 0.4, Alpha: 0.0001, Result: -0.08825\n",
      "Epsilon: 0.4, Alpha: 0.0003, Result: -0.13855\n"
     ]
    },
    {
     "name": "stderr",
     "output_type": "stream",
     "text": [
      "\r",
      " 44%|█████████████████████████████████████▎                                              | 4/9 [00:24<00:30,  6.10s/it]"
     ]
    },
    {
     "name": "stdout",
     "output_type": "stream",
     "text": [
      "Epsilon: 0.4, Alpha: 0.001, Result: -0.1238\n",
      "Epsilon: 0.5, Alpha: 1e-05, Result: -0.12955\n",
      "Epsilon: 0.5, Alpha: 3e-05, Result: -0.15025\n",
      "Epsilon: 0.5, Alpha: 0.0001, Result: -0.08795\n",
      "Epsilon: 0.5, Alpha: 0.0003, Result: -0.0922\n"
     ]
    },
    {
     "name": "stderr",
     "output_type": "stream",
     "text": [
      "\r",
      " 56%|██████████████████████████████████████████████▋                                     | 5/9 [00:30<00:24,  6.11s/it]"
     ]
    },
    {
     "name": "stdout",
     "output_type": "stream",
     "text": [
      "Epsilon: 0.5, Alpha: 0.001, Result: -0.1052\n",
      "Epsilon: 0.6, Alpha: 1e-05, Result: -0.1133\n",
      "Epsilon: 0.6, Alpha: 3e-05, Result: -0.11225\n",
      "Epsilon: 0.6, Alpha: 0.0001, Result: -0.0895\n",
      "Epsilon: 0.6, Alpha: 0.0003, Result: -0.10595\n"
     ]
    },
    {
     "name": "stderr",
     "output_type": "stream",
     "text": [
      "\r",
      " 67%|████████████████████████████████████████████████████████                            | 6/9 [00:36<00:18,  6.08s/it]"
     ]
    },
    {
     "name": "stdout",
     "output_type": "stream",
     "text": [
      "Epsilon: 0.6, Alpha: 0.001, Result: -0.0825\n",
      "Epsilon: 0.7, Alpha: 1e-05, Result: -0.073\n",
      "Epsilon: 0.7, Alpha: 3e-05, Result: -0.118\n",
      "Epsilon: 0.7, Alpha: 0.0001, Result: -0.08855\n",
      "Epsilon: 0.7, Alpha: 0.0003, Result: -0.1027\n"
     ]
    },
    {
     "name": "stderr",
     "output_type": "stream",
     "text": [
      "\r",
      " 78%|█████████████████████████████████████████████████████████████████▎                  | 7/9 [00:42<00:12,  6.07s/it]"
     ]
    },
    {
     "name": "stdout",
     "output_type": "stream",
     "text": [
      "Epsilon: 0.7, Alpha: 0.001, Result: -0.1097\n",
      "Epsilon: 0.8, Alpha: 1e-05, Result: -0.0954\n",
      "Epsilon: 0.8, Alpha: 3e-05, Result: -0.0848\n",
      "Epsilon: 0.8, Alpha: 0.0001, Result: -0.04045\n",
      "Epsilon: 0.8, Alpha: 0.0003, Result: -0.1036\n"
     ]
    },
    {
     "name": "stderr",
     "output_type": "stream",
     "text": [
      "\r",
      " 89%|██████████████████████████████████████████████████████████████████████████▋         | 8/9 [00:48<00:06,  6.06s/it]"
     ]
    },
    {
     "name": "stdout",
     "output_type": "stream",
     "text": [
      "Epsilon: 0.8, Alpha: 0.001, Result: -0.07045\n",
      "Epsilon: 0.9, Alpha: 1e-05, Result: -0.06925\n",
      "Epsilon: 0.9, Alpha: 3e-05, Result: -0.1003\n",
      "Epsilon: 0.9, Alpha: 0.0001, Result: -0.0562\n",
      "Epsilon: 0.9, Alpha: 0.0003, Result: -0.0884\n"
     ]
    },
    {
     "name": "stderr",
     "output_type": "stream",
     "text": [
      "100%|████████████████████████████████████████████████████████████████████████████████████| 9/9 [00:54<00:00,  6.07s/it]"
     ]
    },
    {
     "name": "stdout",
     "output_type": "stream",
     "text": [
      "Epsilon: 0.9, Alpha: 0.001, Result: -0.0658\n"
     ]
    },
    {
     "name": "stderr",
     "output_type": "stream",
     "text": [
      "\n"
     ]
    }
   ],
   "source": [
    "epsilons = [0.1, 0.2, 0.3, 0.4, 0.5, 0.6, 0.7, 0.8, 0.9]\n",
    "alphas = [1e-5, 3e-5, 1e-4, 3e-4, 1e-3]\n",
    "k = 10000\n",
    "\n",
    "params = []\n",
    "for epsilon in tqdm(epsilons):\n",
    "    for alpha in alphas:\n",
    "        learner = QBlackJack(can_double=True)\n",
    "        learner.learn(n_episodes=k, alpha=alpha, epsilon=epsilon)\n",
    "        rewards = learner.get_experiment(n_experiments=k)\n",
    "        params.append([epsilon, alpha, np.mean(rewards)])\n",
    "        print(f'Epsilon: {epsilon}, Alpha: {alpha}, Result: {np.mean(rewards)}')"
   ]
  },
  {
   "cell_type": "code",
   "execution_count": 17,
   "metadata": {},
   "outputs": [
    {
     "name": "stdout",
     "output_type": "stream",
     "text": [
      "Best params:\n",
      "Epsilon: 0.8\n",
      "Alpha: 0.0001\n",
      "Result: -0.04045\n"
     ]
    }
   ],
   "source": [
    "best_params = max(params, key=lambda x: x[2])\n",
    "print(\"\"\"Best params:\n",
    "Epsilon: {}\n",
    "Alpha: {}\n",
    "Result: {}\"\"\".format(*best_params))"
   ]
  },
  {
   "cell_type": "code",
   "execution_count": 18,
   "metadata": {},
   "outputs": [
    {
     "name": "stdout",
     "output_type": "stream",
     "text": [
      "Средний проигрыш при такой стратегии за 100000 экспериментов: -0.03519\n"
     ]
    }
   ],
   "source": [
    "learner = QBlackJack(can_double=True)\n",
    "learner.learn(n_episodes=n, epsilon=best_params[0], alpha=best_params[1])\n",
    "rewards = learner.get_experiment(n_experiments=n)\n",
    "\n",
    "print(f'Средний проигрыш при такой стратегии за {n} экспериментов: {np.mean(rewards)}')"
   ]
  },
  {
   "cell_type": "code",
   "execution_count": 19,
   "metadata": {},
   "outputs": [
    {
     "name": "stderr",
     "output_type": "stream",
     "text": [
      "100%|████████████████████████████████████████████████████████████████████████| 100000/100000 [00:30<00:00, 3228.00it/s]\n"
     ]
    },
    {
     "data": {
      "image/png": "[encoded data removed]",
      "text/plain": [
       "<Figure size 1152x576 with 1 Axes>"
      ]
     },
     "metadata": {},
     "output_type": "display_data"
    }
   ],
   "source": [
    "results = []\n",
    "for i in tqdm(range(len(rewards))):\n",
    "    results.append(sum(rewards[:i])/(i+1))\n",
    "plt.figure(figsize=(16, 8))\n",
    "plt.plot(results)\n",
    "plt.xlabel('Количество эпизодов')\n",
    "plt.ylabel('Выигрыш')\n",
    "plt.grid(True)\n",
    "plt.show()"
   ]
  },
  {
   "cell_type": "markdown",
   "metadata": {},
   "source": [
    "Если играть с удвоением, то на первых 20000 иттерациях появляется возможность выигрыша, но этого не происходит и обыграть казино не получается."
   ]
  },
  {
   "cell_type": "markdown",
   "metadata": {},
   "source": [
    "## Часть третья, в главной роли — Дастин Хоффман\n",
    "А теперь давайте вспомним, как играют в блекджек настоящие профессионалы. Дело в том, что в оффлайн-казино обычно не перемешивают колоду после каждой раздачи — это слишком замедляло бы игру. После раздачи карты просто раздаются дальше с верха колоды до тех пор, пока карт не останется слишком мало, и только тогда колода перемешивается; давайте для определённости считать, что наше казино будет перемешивать колоду, в которой осталось меньше 15 карт.\n",
    "\n",
    "Действительно, если вы будете запоминать, какие карты уже вышли, у вас будет информация о том, какие карты ещё остались, а это позволяет лучше понять, когда нужно удваивать ставку или делать split, а когда лучше не стоит. В настоящем казино могут раздавать карты сразу из нескольких колод, и заслуга Rain Man’а была в том, что он смог считать карты в шести колодах одновременно. Но мы с вами вооружены компьютерами, так что подсчёт можно считать автоматическим.\n",
    "\n",
    "6) Реализуйте вариант окружения Blackjack-v0 из предыдущей части (с удвоением), в котором игрок имеет возможность “считать карты” в колоде. Это можно сделать разными способами; возможно, вам поможет статья википедии о блекджеке (а возможно, и нет).\n",
    "\n",
    "7) Реализуйте метод обучения с подкреплением без модели для этого варианта, постройте графики, аналогичные п.2.\n",
    "\n"
   ]
  },
  {
   "cell_type": "code",
   "execution_count": 20,
   "metadata": {},
   "outputs": [],
   "source": [
    "class BlackjackCardCountCardsEnv(BlackjackEnv):\n",
    "    def __init__(self, natural=False):\n",
    "        self.action_space = spaces.Discrete(3)  # Now we have 3 actions instead of 2 (stick=0, hit=1, double=2)\n",
    "        self.observation_space = spaces.Tuple((\n",
    "            spaces.Discrete(32),\n",
    "            spaces.Discrete(11),\n",
    "            spaces.Discrete(2),\n",
    "            spaces.Discrete(21))),\n",
    "        self.seed()\n",
    "        \n",
    "        self.dealer = []\n",
    "        self.player = []\n",
    "        \n",
    "        self.get_new_deck()\n",
    "\n",
    "        # Flag to payout 1.5 on a \"natural\" blackjack win, like casino rules\n",
    "        # Ref: http://www.bicyclecards.com/how-to-play/blackjack/\n",
    "        self.natural = natural\n",
    "        \n",
    "    def _get_obs(self):\n",
    "        return (sum_hand(self.player), self.dealer[0], usable_ace(self.player), self.get_deck_status())\n",
    "    \n",
    "    def get_deck_status(self):\n",
    "        status = self.current_deck\n",
    "        if status < -10:\n",
    "            status = -10\n",
    "        elif status > 10:\n",
    "            status = 10\n",
    "        return status + 10\n",
    "\n",
    "    def get_new_deck(self):\n",
    "        self.deck = [1, 2, 3, 4, 5, 6, 7, 8, 9, 10, 10, 10, 10] * 4\n",
    "        random.shuffle(self.deck)\n",
    "        self.current_deck = 0\n",
    "        self.not_relevant_dealer_cards = len(self.dealer)\n",
    "    \n",
    "    def start_new_game(self):\n",
    "        self.dealer = []\n",
    "        self.dealer.append(self.get_card())\n",
    "        self.dealer.append(self.get_card(visible=False))\n",
    "        self.not_relevant_dealer_cards = 1\n",
    "        \n",
    "        self.player = []\n",
    "        self.player.append(self.get_card())\n",
    "        self.player.append(self.get_card())\n",
    "        return self._get_obs()\n",
    "    \n",
    "    def get_card(self, visible=True):\n",
    "        card = self.deck.pop()\n",
    "        if visible:\n",
    "            self.current_deck += get_card_value(card)\n",
    "        if len(self.deck) < 15:\n",
    "            self.get_new_deck()\n",
    "        return card\n",
    "    \n",
    "    def step(self, action):\n",
    "        assert self.action_space.contains(action)\n",
    "        if action == 2: # double: add only one card, reward/loss is double.\n",
    "            done = True\n",
    "            self.player.append(self.get_card())\n",
    "            if is_bust(self.player):\n",
    "                reward = -2.\n",
    "            else:\n",
    "                while sum_hand(self.dealer) < 17:\n",
    "                    self.dealer.append(self.get_card(visible=False))\n",
    "                reward = 2.0 * cmp(score(self.player), score(self.dealer))\n",
    "            if self.natural and is_natural(self.player) and reward == 2.:\n",
    "                reward = 3.\n",
    "            \n",
    "        elif action == 1:  \n",
    "            self.player.append(self.get_card())\n",
    "            if is_bust(self.player):\n",
    "                done = True\n",
    "                reward = -1.\n",
    "            else:\n",
    "                done = False\n",
    "                reward = 0.\n",
    "        else:  \n",
    "            done = True\n",
    "            while sum_hand(self.dealer) < 17:\n",
    "                self.dealer.append(self.get_card(visible=False)) \n",
    "            reward = cmp(score(self.player), score(self.dealer))\n",
    "            if self.natural and is_natural(self.player) and reward == 1.:\n",
    "                reward = 1.5\n",
    "        if done: \n",
    "            for card in self.dealer[self.not_relevant_dealer_cards:]:\n",
    "                self.current_deck += get_card_value(card)\n",
    "        return self._get_obs(), reward, done, {}\n",
    "\n",
    "def cmp(a, b):\n",
    "    return float(a > b) - float(a < b)\n",
    "\n",
    "\n",
    "def usable_ace(hand):  # Does this hand have a usable ace?\n",
    "    return 1 in hand and sum(hand) + 10 <= 21\n",
    "\n",
    "\n",
    "def sum_hand(hand):  \n",
    "    if usable_ace(hand):\n",
    "        return sum(hand) + 10\n",
    "    return sum(hand)\n",
    "\n",
    "\n",
    "def is_bust(hand): \n",
    "    return sum_hand(hand) > 21\n",
    "\n",
    "\n",
    "def score(hand): \n",
    "    return 0 if is_bust(hand) else sum_hand(hand)\n",
    "\n",
    "\n",
    "def is_natural(hand):  \n",
    "    return sorted(hand) == [1, 10]\n",
    "\n",
    "def get_card_value(card): \n",
    "    if card in [2, 3, 4, 5, 6]:\n",
    "        return 1\n",
    "    elif card in [1, 10]:\n",
    "        return  -1\n",
    "    return 0"
   ]
  },
  {
   "cell_type": "code",
   "execution_count": 21,
   "metadata": {},
   "outputs": [],
   "source": [
    "class QBlackJackCardCounter(QBlackJack):\n",
    "    def __init__(self, natural=True):\n",
    "        self._ph = 32 \n",
    "        self._dh = 11 \n",
    "        self._ua = 2 \n",
    "        self._ds = 21 \n",
    "        self._nA = 3 \n",
    "        self._nS = self._ph * self._dh * self._ua * self._ds # nS\n",
    "        self._env = BlackjackCardCountCardsEnv(natural=natural)\n",
    "        self._env.reset()\n",
    "    \n",
    "    def _observation_to_idx(self, s):\n",
    "        return (s[0] - 1) * self._dh * self._ua * self._ds + (s[1] - 1) * self._ua * self._ds + s[2] * self._ds + s[3]\n",
    "    \n",
    "    def idx_to_observation(self, idx):\n",
    "        s_3 = int(idx % self._ds)\n",
    "        idx = (idx - s_3) / self._ds\n",
    "        s_2 = bool(idx % self._ua)\n",
    "        idx = (idx - s_2) / self._ua\n",
    "        s_1 = int(idx % self._dh + 1)\n",
    "        s_0 = int((idx - (s_1 - 1)) / self._dh + 1)\n",
    "        return (s_0, s_1, s_2, s_3)\n",
    "    \n",
    "    def _Q_learning_episode(self, alpha, epsilon, gamma):\n",
    "        obs = self._env.start_new_game()\n",
    "        s = self._observation_to_idx(obs)\n",
    "        pi = self.get_current_policy()\n",
    "        if np.random.rand() > epsilon:\n",
    "            a = pi[s]\n",
    "        else:\n",
    "            a = np.random.randint(self._nA)\n",
    "        done = False\n",
    "        while not done:\n",
    "            pi = self.get_current_policy()\n",
    "            observation, reward, done, _ = self._env.step(a)\n",
    "            s_prime = self._observation_to_idx(observation)\n",
    "            if np.random.rand() > epsilon:\n",
    "                a_prime = pi[s_prime]\n",
    "            else:\n",
    "                a_prime = np.random.randint(self._nA)\n",
    "            self._Q[s, a] = self._Q[s, a] + alpha * (reward + gamma * np.max(self._Q[s_prime]) - self._Q[s, a])\n",
    "            s = s_prime\n",
    "            if done:\n",
    "                break\n",
    "        \n",
    "    def get_experiment(self, pi=None, n_experiments=100000):\n",
    "        if not pi:\n",
    "            pi = self.pi\n",
    "        rewards = []\n",
    "        for _ in range(n_experiments):\n",
    "            observation = self._env.start_new_game()\n",
    "            s = self._observation_to_idx(observation)\n",
    "            done = False\n",
    "            reward = 0\n",
    "            while not done:\n",
    "                a = pi[s]\n",
    "                observation, reward, done, _ = self._env.step(a)\n",
    "                s = self._observation_to_idx(observation)\n",
    "            rewards.append(reward)\n",
    "        return rewards"
   ]
  },
  {
   "cell_type": "code",
   "execution_count": 22,
   "metadata": {},
   "outputs": [
    {
     "name": "stdout",
     "output_type": "stream",
     "text": [
      "Средний проигрыш при такой стратегии за 100000 экспериментов: -0.118775\n"
     ]
    }
   ],
   "source": [
    "learner = QBlackJackCardCounter()\n",
    "learner.learn(n_episodes=n)\n",
    "rewards = learner.get_experiment(n_experiments=n)\n",
    "\n",
    "print(f'Средний проигрыш при такой стратегии за {n} экспериментов: {np.mean(rewards)}')"
   ]
  },
  {
   "cell_type": "code",
   "execution_count": 23,
   "metadata": {},
   "outputs": [
    {
     "name": "stderr",
     "output_type": "stream",
     "text": [
      "100%|████████████████████████████████████████████████████████████████████████| 100000/100000 [00:29<00:00, 3351.94it/s]\n"
     ]
    },
    {
     "data": {
      "image/png": "[encoded data removed]",
      "text/plain": [
       "<Figure size 1152x576 with 1 Axes>"
      ]
     },
     "metadata": {},
     "output_type": "display_data"
    }
   ],
   "source": [
    "results = []\n",
    "for i in tqdm(range(len(rewards))):\n",
    "    results.append(sum(rewards[:i])/(i+1))\n",
    "plt.figure(figsize=(16, 8))\n",
    "plt.plot(results)\n",
    "plt.xlabel('Количество эпизодов')\n",
    "plt.ylabel('Выигрыш')\n",
    "plt.grid(True)\n",
    "plt.show()"
   ]
  },
  {
   "cell_type": "markdown",
   "metadata": {},
   "source": [
    "Стратегия с подсчетом карт оказалась хуже, чем предыдущая стратегия, на основе усредненного выигрыша (проигрыша), так как увеличилось количество состояний и требуется намного больше итераций, чтобы обучить алгоритм. Но даже с этим нет надежды на победу над казино."
   ]
  }
 ],
 "metadata": {
  "kernelspec": {
   "display_name": "Python 3",
   "language": "python",
   "name": "python3"
  },
  "language_info": {
   "codemirror_mode": {
    "name": "ipython",
    "version": 3
   },
   "file_extension": ".py",
   "mimetype": "text/x-python",
   "name": "python",
   "nbconvert_exporter": "python",
   "pygments_lexer": "ipython3",
   "version": "3.8.5"
  }
 },
 "nbformat": 4,
 "nbformat_minor": 2
}
